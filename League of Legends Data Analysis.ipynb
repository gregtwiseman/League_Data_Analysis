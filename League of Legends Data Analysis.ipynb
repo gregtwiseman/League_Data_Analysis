{
 "cells": [
  {
   "cell_type": "markdown",
   "metadata": {},
   "source": [
    "The following is an analysis of League of Legends professional match data from 2015 to 2018.\n",
    "\n",
    "The aim of this analysis is to demonstrate proficiency with basic Python. "
   ]
  },
  {
   "cell_type": "markdown",
   "metadata": {},
   "source": [
    "Step 1: Import the Python libraries\n",
    "\n",
    "Pandas and numpy are imported as standard Data Science libraries, as well as seaborn and matplotlib for visualisation"
   ]
  },
  {
   "cell_type": "code",
   "execution_count": 222,
   "metadata": {},
   "outputs": [],
   "source": [
    "import pandas as pd\n",
    "import numpy as np\n",
    "import seaborn as sns\n",
    "import matplotlib.pyplot as plt\n",
    "%matplotlib inline"
   ]
  },
  {
   "cell_type": "markdown",
   "metadata": {},
   "source": [
    "Step 2: Import the data\n",
    "\n",
    "Note that the .csv file can be found here: https://www.dropbox.com/sh/e19xutwsnry3agn/AACEcTs6N7pBz56ndiQXrkIla?dl=0"
   ]
  },
  {
   "cell_type": "code",
   "execution_count": 223,
   "metadata": {},
   "outputs": [],
   "source": [
    "LoL = pd.read_csv(\"C:/Users/Greg/Documents/Coding/LeagueofLegends.csv\")"
   ]
  },
  {
   "cell_type": "markdown",
   "metadata": {},
   "source": [
    "Step 3: Examine the input data."
   ]
  },
  {
   "cell_type": "code",
   "execution_count": 224,
   "metadata": {
    "scrolled": true
   },
   "outputs": [
    {
     "name": "stdout",
     "output_type": "stream",
     "text": [
      "<class 'pandas.core.frame.DataFrame'>\n",
      "RangeIndex: 7620 entries, 0 to 7619\n",
      "Data columns (total 57 columns):\n",
      "League              7620 non-null object\n",
      "Year                7620 non-null int64\n",
      "Season              7620 non-null object\n",
      "Type                7620 non-null object\n",
      "blueTeamTag         7582 non-null object\n",
      "bResult             7620 non-null int64\n",
      "rResult             7620 non-null int64\n",
      "redTeamTag          7583 non-null object\n",
      "gamelength          7620 non-null int64\n",
      "golddiff            7620 non-null object\n",
      "goldblue            7620 non-null object\n",
      "bKills              7620 non-null object\n",
      "bTowers             7620 non-null object\n",
      "bInhibs             7620 non-null object\n",
      "bDragons            7620 non-null object\n",
      "bBarons             7620 non-null object\n",
      "bHeralds            7620 non-null object\n",
      "goldred             7620 non-null object\n",
      "rKills              7620 non-null object\n",
      "rTowers             7620 non-null object\n",
      "rInhibs             7620 non-null object\n",
      "rDragons            7620 non-null object\n",
      "rBarons             7620 non-null object\n",
      "rHeralds            7620 non-null object\n",
      "blueTop             7583 non-null object\n",
      "blueTopChamp        7620 non-null object\n",
      "goldblueTop         7620 non-null object\n",
      "blueJungle          7592 non-null object\n",
      "blueJungleChamp     7620 non-null object\n",
      "goldblueJungle      7620 non-null object\n",
      "blueMiddle          7583 non-null object\n",
      "blueMiddleChamp     7620 non-null object\n",
      "goldblueMiddle      7620 non-null object\n",
      "blueADC             7583 non-null object\n",
      "blueADCChamp        7620 non-null object\n",
      "goldblueADC         7620 non-null object\n",
      "blueSupport         7583 non-null object\n",
      "blueSupportChamp    7620 non-null object\n",
      "goldblueSupport     7620 non-null object\n",
      "blueBans            7620 non-null object\n",
      "redTop              7583 non-null object\n",
      "redTopChamp         7620 non-null object\n",
      "goldredTop          7620 non-null object\n",
      "redJungle           7596 non-null object\n",
      "redJungleChamp      7620 non-null object\n",
      "goldredJungle       7620 non-null object\n",
      "redMiddle           7583 non-null object\n",
      "redMiddleChamp      7620 non-null object\n",
      "goldredMiddle       7620 non-null object\n",
      "redADC              7583 non-null object\n",
      "redADCChamp         7620 non-null object\n",
      "goldredADC          7620 non-null object\n",
      "redSupport          7583 non-null object\n",
      "redSupportChamp     7620 non-null object\n",
      "goldredSupport      7620 non-null object\n",
      "redBans             7620 non-null object\n",
      "Address             7620 non-null object\n",
      "dtypes: int64(4), object(53)\n",
      "memory usage: 3.3+ MB\n"
     ]
    }
   ],
   "source": [
    "LoL.info()"
   ]
  },
  {
   "cell_type": "markdown",
   "metadata": {},
   "source": [
    "Step 4: Identify target information \n",
    "\n",
    "Using this information, I will:\n",
    "\n",
    "- Identify the most picked champions for each position\n",
    "- Evaluate how varied team composition is\n",
    "- Evaluate the most successful team across this period of time"
   ]
  },
  {
   "cell_type": "markdown",
   "metadata": {},
   "source": [
    "Step 5: Manipulate data to assist in achieving target information\n",
    "\n",
    "To assist in handling the information, I will create a summary dataframe, displaying the year, team, overall team composition and result of the match, which will be assigned a fresh index."
   ]
  },
  {
   "cell_type": "code",
   "execution_count": 226,
   "metadata": {},
   "outputs": [],
   "source": [
    "LoL[\"redPicks\"] = LoL[\"redMiddleChamp\"] + \", \" + LoL[\"redADCChamp\"] + \", \" + LoL[\"redSupportChamp\"] + \", \" + LoL[\"redJungleChamp\"] + \", \" + LoL[\"redTopChamp\"] \n",
    "LoL[\"bluePicks\"] = LoL[\"blueMiddleChamp\"] + \", \" + LoL[\"blueADCChamp\"] + \", \" + LoL[\"blueSupportChamp\"] + \", \" + LoL[\"blueJungleChamp\"] + \", \" + LoL[\"blueTopChamp\"] "
   ]
  },
  {
   "cell_type": "code",
   "execution_count": 227,
   "metadata": {},
   "outputs": [
    {
     "data": {
      "text/html": [
       "<div>\n",
       "<style scoped>\n",
       "    .dataframe tbody tr th:only-of-type {\n",
       "        vertical-align: middle;\n",
       "    }\n",
       "\n",
       "    .dataframe tbody tr th {\n",
       "        vertical-align: top;\n",
       "    }\n",
       "\n",
       "    .dataframe thead th {\n",
       "        text-align: right;\n",
       "    }\n",
       "</style>\n",
       "<table border=\"1\" class=\"dataframe\">\n",
       "  <thead>\n",
       "    <tr style=\"text-align: right;\">\n",
       "      <th></th>\n",
       "      <th>index</th>\n",
       "      <th>Team</th>\n",
       "      <th>Year</th>\n",
       "      <th>Team Name</th>\n",
       "      <th>Picks</th>\n",
       "      <th>Result</th>\n",
       "      <th>Top</th>\n",
       "      <th>Mid</th>\n",
       "      <th>Jungle</th>\n",
       "      <th>Support</th>\n",
       "      <th>ADC</th>\n",
       "    </tr>\n",
       "  </thead>\n",
       "  <tbody>\n",
       "    <tr>\n",
       "      <th>0</th>\n",
       "      <td>0</td>\n",
       "      <td>Blue</td>\n",
       "      <td>2015</td>\n",
       "      <td>TSM</td>\n",
       "      <td>Ahri, Jinx, Janna, RekSai, Irelia</td>\n",
       "      <td>1</td>\n",
       "      <td>Irelia</td>\n",
       "      <td>Ahri</td>\n",
       "      <td>RekSai</td>\n",
       "      <td>Janna</td>\n",
       "      <td>Jinx</td>\n",
       "    </tr>\n",
       "    <tr>\n",
       "      <th>1</th>\n",
       "      <td>1</td>\n",
       "      <td>Blue</td>\n",
       "      <td>2015</td>\n",
       "      <td>CST</td>\n",
       "      <td>Ahri, Caitlyn, Leona, Rengar, Gnar</td>\n",
       "      <td>0</td>\n",
       "      <td>Gnar</td>\n",
       "      <td>Ahri</td>\n",
       "      <td>Rengar</td>\n",
       "      <td>Leona</td>\n",
       "      <td>Caitlyn</td>\n",
       "    </tr>\n",
       "    <tr>\n",
       "      <th>2</th>\n",
       "      <td>2</td>\n",
       "      <td>Blue</td>\n",
       "      <td>2015</td>\n",
       "      <td>WFX</td>\n",
       "      <td>Fizz, Sivir, Annie, Rengar, Renekton</td>\n",
       "      <td>1</td>\n",
       "      <td>Renekton</td>\n",
       "      <td>Fizz</td>\n",
       "      <td>Rengar</td>\n",
       "      <td>Annie</td>\n",
       "      <td>Sivir</td>\n",
       "    </tr>\n",
       "    <tr>\n",
       "      <th>3</th>\n",
       "      <td>3</td>\n",
       "      <td>Blue</td>\n",
       "      <td>2015</td>\n",
       "      <td>TIP</td>\n",
       "      <td>Leblanc, Sivir, Thresh, JarvanIV, Irelia</td>\n",
       "      <td>0</td>\n",
       "      <td>Irelia</td>\n",
       "      <td>Leblanc</td>\n",
       "      <td>JarvanIV</td>\n",
       "      <td>Thresh</td>\n",
       "      <td>Sivir</td>\n",
       "    </tr>\n",
       "    <tr>\n",
       "      <th>4</th>\n",
       "      <td>4</td>\n",
       "      <td>Blue</td>\n",
       "      <td>2015</td>\n",
       "      <td>CLG</td>\n",
       "      <td>Lissandra, Tristana, Janna, JarvanIV, Gnar</td>\n",
       "      <td>1</td>\n",
       "      <td>Gnar</td>\n",
       "      <td>Lissandra</td>\n",
       "      <td>JarvanIV</td>\n",
       "      <td>Janna</td>\n",
       "      <td>Tristana</td>\n",
       "    </tr>\n",
       "  </tbody>\n",
       "</table>\n",
       "</div>"
      ],
      "text/plain": [
       "   index  Team  Year Team Name                                       Picks  \\\n",
       "0  0      Blue  2015  TSM       Ahri, Jinx, Janna, RekSai, Irelia            \n",
       "1  1      Blue  2015  CST       Ahri, Caitlyn, Leona, Rengar, Gnar           \n",
       "2  2      Blue  2015  WFX       Fizz, Sivir, Annie, Rengar, Renekton         \n",
       "3  3      Blue  2015  TIP       Leblanc, Sivir, Thresh, JarvanIV, Irelia     \n",
       "4  4      Blue  2015  CLG       Lissandra, Tristana, Janna, JarvanIV, Gnar   \n",
       "\n",
       "   Result       Top        Mid    Jungle Support       ADC  \n",
       "0  1       Irelia    Ahri       RekSai    Janna   Jinx      \n",
       "1  0       Gnar      Ahri       Rengar    Leona   Caitlyn   \n",
       "2  1       Renekton  Fizz       Rengar    Annie   Sivir     \n",
       "3  0       Irelia    Leblanc    JarvanIV  Thresh  Sivir     \n",
       "4  1       Gnar      Lissandra  JarvanIV  Janna   Tristana  "
      ]
     },
     "execution_count": 227,
     "metadata": {},
     "output_type": "execute_result"
    }
   ],
   "source": [
    "# amalgamating the red-team information using a dictionary\n",
    "red_summary = pd.DataFrame({\"Team\": \"Red\",\n",
    "                          \"Year\": LoL[\"Year\"],\n",
    "                          \"Team Name\": LoL[\"redTeamTag\"],\n",
    "                          \"Picks\": LoL[\"redPicks\"],\n",
    "                          \"Result\": LoL[\"rResult\"],\n",
    "                          \"Top\": LoL[\"redTopChamp\"],\n",
    "                          \"Mid\": LoL[\"redMiddleChamp\"],\n",
    "                          \"Jungle\": LoL[\"redJungleChamp\"],\n",
    "                          \"Support\": LoL[\"redSupportChamp\"],\n",
    "                          \"ADC\": LoL[\"redADCChamp\"]\n",
    "                         })\n",
    "# add in a fresh index to replace the complex hash ID in dataset\n",
    "red_summary.reset_index()\n",
    "# repeat same actions for the blue team\n",
    "blue_summary = pd.DataFrame({\"Team\": \"Blue\",\n",
    "                           \"Year\": LoL[\"Year\"],\n",
    "                           \"Team Name\": LoL[\"blueTeamTag\"], \n",
    "                           \"Picks\": LoL[\"bluePicks\"], \n",
    "                           \"Result\": LoL[\"bResult\"],\n",
    "                           \"Top\": LoL[\"blueTopChamp\"],\n",
    "                          \"Mid\": LoL[\"blueMiddleChamp\"],\n",
    "                          \"Jungle\": LoL[\"blueJungleChamp\"],\n",
    "                          \"Support\": LoL[\"blueSupportChamp\"],\n",
    "                          \"ADC\": LoL[\"blueADCChamp\"]\n",
    "                          })\n",
    "blue_summary.reset_index().head()"
   ]
  },
  {
   "cell_type": "code",
   "execution_count": 228,
   "metadata": {},
   "outputs": [],
   "source": [
    "# merge the 2 teams into a single dataframe\n",
    "summary = pd.concat([blue_summary, red_summary])"
   ]
  },
  {
   "cell_type": "markdown",
   "metadata": {},
   "source": [
    "Step 6: Test data\n",
    "\n",
    "With the required data now in a single DataFrame, it is important to test some of the information. As such, the below functions are checking:\n",
    "\n",
    "- That if a match is called, it has a red team and a blue team, 2 different team names, and a winner/loser\n",
    "- That we can call specific teams and see their picks/results\n"
   ]
  },
  {
   "cell_type": "code",
   "execution_count": 229,
   "metadata": {},
   "outputs": [],
   "source": [
    "#call a match index to check variables\n",
    "match_test = summary.loc[20]"
   ]
  },
  {
   "cell_type": "code",
   "execution_count": 177,
   "metadata": {},
   "outputs": [
    {
     "data": {
      "text/html": [
       "<div>\n",
       "<style scoped>\n",
       "    .dataframe tbody tr th:only-of-type {\n",
       "        vertical-align: middle;\n",
       "    }\n",
       "\n",
       "    .dataframe tbody tr th {\n",
       "        vertical-align: top;\n",
       "    }\n",
       "\n",
       "    .dataframe thead th {\n",
       "        text-align: right;\n",
       "    }\n",
       "</style>\n",
       "<table border=\"1\" class=\"dataframe\">\n",
       "  <thead>\n",
       "    <tr style=\"text-align: right;\">\n",
       "      <th></th>\n",
       "      <th>Team</th>\n",
       "      <th>Year</th>\n",
       "      <th>Team Name</th>\n",
       "      <th>Picks</th>\n",
       "      <th>Result</th>\n",
       "      <th>Top</th>\n",
       "      <th>Mid</th>\n",
       "      <th>Jungle</th>\n",
       "      <th>Support</th>\n",
       "      <th>ADC</th>\n",
       "    </tr>\n",
       "  </thead>\n",
       "  <tbody>\n",
       "    <tr>\n",
       "      <th>20</th>\n",
       "      <td>Blue</td>\n",
       "      <td>2015</td>\n",
       "      <td>GV</td>\n",
       "      <td>Corki, Kalista, Morgana, RekSai, Lulu</td>\n",
       "      <td>0</td>\n",
       "      <td>Lulu</td>\n",
       "      <td>Corki</td>\n",
       "      <td>RekSai</td>\n",
       "      <td>Morgana</td>\n",
       "      <td>Kalista</td>\n",
       "    </tr>\n",
       "    <tr>\n",
       "      <th>20</th>\n",
       "      <td>Red</td>\n",
       "      <td>2015</td>\n",
       "      <td>TIP</td>\n",
       "      <td>Ahri, Graves, Annie, LeeSin, Rumble</td>\n",
       "      <td>1</td>\n",
       "      <td>Rumble</td>\n",
       "      <td>Ahri</td>\n",
       "      <td>LeeSin</td>\n",
       "      <td>Annie</td>\n",
       "      <td>Graves</td>\n",
       "    </tr>\n",
       "  </tbody>\n",
       "</table>\n",
       "</div>"
      ],
      "text/plain": [
       "    Team  Year Team Name                                  Picks  Result  \\\n",
       "20  Blue  2015  GV        Corki, Kalista, Morgana, RekSai, Lulu  0        \n",
       "20  Red   2015  TIP       Ahri, Graves, Annie, LeeSin, Rumble    1        \n",
       "\n",
       "       Top    Mid  Jungle  Support      ADC  \n",
       "20  Lulu    Corki  RekSai  Morgana  Kalista  \n",
       "20  Rumble  Ahri   LeeSin  Annie    Graves   "
      ]
     },
     "execution_count": 177,
     "metadata": {},
     "output_type": "execute_result"
    }
   ],
   "source": [
    "match_test"
   ]
  },
  {
   "cell_type": "code",
   "execution_count": 178,
   "metadata": {},
   "outputs": [],
   "source": [
    "# call a team to check variables\n",
    "team_test = summary.loc[summary[\"Team Name\"] == \"C9\"]"
   ]
  },
  {
   "cell_type": "code",
   "execution_count": 182,
   "metadata": {},
   "outputs": [
    {
     "data": {
      "text/html": [
       "<div>\n",
       "<style scoped>\n",
       "    .dataframe tbody tr th:only-of-type {\n",
       "        vertical-align: middle;\n",
       "    }\n",
       "\n",
       "    .dataframe tbody tr th {\n",
       "        vertical-align: top;\n",
       "    }\n",
       "\n",
       "    .dataframe thead th {\n",
       "        text-align: right;\n",
       "    }\n",
       "</style>\n",
       "<table border=\"1\" class=\"dataframe\">\n",
       "  <thead>\n",
       "    <tr style=\"text-align: right;\">\n",
       "      <th></th>\n",
       "      <th>Team</th>\n",
       "      <th>Year</th>\n",
       "      <th>Team Name</th>\n",
       "      <th>Picks</th>\n",
       "      <th>Result</th>\n",
       "      <th>Top</th>\n",
       "      <th>Mid</th>\n",
       "      <th>Jungle</th>\n",
       "      <th>Support</th>\n",
       "      <th>ADC</th>\n",
       "    </tr>\n",
       "  </thead>\n",
       "  <tbody>\n",
       "    <tr>\n",
       "      <th>8</th>\n",
       "      <td>Blue</td>\n",
       "      <td>2015</td>\n",
       "      <td>C9</td>\n",
       "      <td>Orianna, KogMaw, Janna, RekSai, Sion</td>\n",
       "      <td>0</td>\n",
       "      <td>Sion</td>\n",
       "      <td>Orianna</td>\n",
       "      <td>RekSai</td>\n",
       "      <td>Janna</td>\n",
       "      <td>KogMaw</td>\n",
       "    </tr>\n",
       "    <tr>\n",
       "      <th>12</th>\n",
       "      <td>Blue</td>\n",
       "      <td>2015</td>\n",
       "      <td>C9</td>\n",
       "      <td>Lissandra, Kalista, Annie, Vi, Irelia</td>\n",
       "      <td>1</td>\n",
       "      <td>Irelia</td>\n",
       "      <td>Lissandra</td>\n",
       "      <td>Vi</td>\n",
       "      <td>Annie</td>\n",
       "      <td>Kalista</td>\n",
       "    </tr>\n",
       "    <tr>\n",
       "      <th>21</th>\n",
       "      <td>Blue</td>\n",
       "      <td>2015</td>\n",
       "      <td>C9</td>\n",
       "      <td>Kassadin, Graves, Annie, Vi, Maokai</td>\n",
       "      <td>1</td>\n",
       "      <td>Maokai</td>\n",
       "      <td>Kassadin</td>\n",
       "      <td>Vi</td>\n",
       "      <td>Annie</td>\n",
       "      <td>Graves</td>\n",
       "    </tr>\n",
       "    <tr>\n",
       "      <th>25</th>\n",
       "      <td>Blue</td>\n",
       "      <td>2015</td>\n",
       "      <td>C9</td>\n",
       "      <td>Leblanc, Graves, Morgana, Vi, Rumble</td>\n",
       "      <td>1</td>\n",
       "      <td>Rumble</td>\n",
       "      <td>Leblanc</td>\n",
       "      <td>Vi</td>\n",
       "      <td>Morgana</td>\n",
       "      <td>Graves</td>\n",
       "    </tr>\n",
       "    <tr>\n",
       "      <th>42</th>\n",
       "      <td>Blue</td>\n",
       "      <td>2015</td>\n",
       "      <td>C9</td>\n",
       "      <td>Zed, Corki, Veigar, Nidalee, Maokai</td>\n",
       "      <td>1</td>\n",
       "      <td>Maokai</td>\n",
       "      <td>Zed</td>\n",
       "      <td>Nidalee</td>\n",
       "      <td>Veigar</td>\n",
       "      <td>Corki</td>\n",
       "    </tr>\n",
       "  </tbody>\n",
       "</table>\n",
       "</div>"
      ],
      "text/plain": [
       "    Team  Year Team Name                                  Picks  Result  \\\n",
       "8   Blue  2015  C9        Orianna, KogMaw, Janna, RekSai, Sion   0        \n",
       "12  Blue  2015  C9        Lissandra, Kalista, Annie, Vi, Irelia  1        \n",
       "21  Blue  2015  C9        Kassadin, Graves, Annie, Vi, Maokai    1        \n",
       "25  Blue  2015  C9        Leblanc, Graves, Morgana, Vi, Rumble   1        \n",
       "42  Blue  2015  C9        Zed, Corki, Veigar, Nidalee, Maokai    1        \n",
       "\n",
       "       Top        Mid   Jungle  Support      ADC  \n",
       "8   Sion    Orianna    RekSai   Janna    KogMaw   \n",
       "12  Irelia  Lissandra  Vi       Annie    Kalista  \n",
       "21  Maokai  Kassadin   Vi       Annie    Graves   \n",
       "25  Rumble  Leblanc    Vi       Morgana  Graves   \n",
       "42  Maokai  Zed        Nidalee  Veigar   Corki    "
      ]
     },
     "execution_count": 182,
     "metadata": {},
     "output_type": "execute_result"
    }
   ],
   "source": [
    "# use .head() to view top 5 items\n",
    "team_test.head()"
   ]
  },
  {
   "cell_type": "markdown",
   "metadata": {},
   "source": [
    "Step 7: Disaply the data and information\n",
    "\n",
    "Having evaluated that the data has been prepared correctly, we can start to display the results of the information."
   ]
  },
  {
   "cell_type": "markdown",
   "metadata": {},
   "source": [
    "7a.i - Top 10 champions picked for each position"
   ]
  },
  {
   "cell_type": "code",
   "execution_count": 258,
   "metadata": {},
   "outputs": [
    {
     "data": {
      "text/plain": [
       "Text(0,0.5,'Times picked')"
      ]
     },
     "execution_count": 258,
     "metadata": {},
     "output_type": "execute_result"
    },
    {
     "data": {
      "image/png": "[encoded data removed]",
      "text/plain": [
       "<Figure size 864x216 with 1 Axes>"
      ]
     },
     "metadata": {
      "needs_background": "light"
     },
     "output_type": "display_data"
    },
    {
     "data": {
      "image/png": "[encoded data removed]",
      "text/plain": [
       "<Figure size 864x216 with 1 Axes>"
      ]
     },
     "metadata": {
      "needs_background": "light"
     },
     "output_type": "display_data"
    },
    {
     "data": {
      "image/png": "[encoded data removed]",
      "text/plain": [
       "<Figure size 864x216 with 1 Axes>"
      ]
     },
     "metadata": {
      "needs_background": "light"
     },
     "output_type": "display_data"
    },
    {
     "data": {
      "image/png": "[encoded data removed]",
      "text/plain": [
       "<Figure size 864x216 with 1 Axes>"
      ]
     },
     "metadata": {
      "needs_background": "light"
     },
     "output_type": "display_data"
    },
    {
     "data": {
      "image/png": "[encoded data removed]",
      "text/plain": [
       "<Figure size 864x216 with 1 Axes>"
      ]
     },
     "metadata": {
      "needs_background": "light"
     },
     "output_type": "display_data"
    }
   ],
   "source": [
    "# Use matplotlib code to set figure size and title\n",
    "plt.figure(figsize=(12,3))\n",
    "plt.title(\"Top Lane 10 most picked Champs\")\n",
    "# Create chart using seaborn\n",
    "sns.countplot(x = \"Top\",\n",
    "              data = summary,\n",
    "              order = summary[\"Top\"].value_counts().iloc[:10].index,\n",
    "              palette=\"hot\")\n",
    "# Rename axes\n",
    "plt.xlabel(\"Champs\")\n",
    "plt.ylabel(\"Times picked\")\n",
    "\n",
    "# Repeat for Mid\n",
    "plt.figure(figsize=(12,3))\n",
    "plt.title(\"Mid Lane 10 most picked Champs\")\n",
    "sns.countplot(x = \"Mid\",\n",
    "              data = summary,\n",
    "              order = summary[\"Mid\"].value_counts().iloc[:10].index,\n",
    "              palette=\"summer\")\n",
    "plt.xlabel(\"Champs\")\n",
    "plt.ylabel(\"Times picked\")\n",
    "\n",
    "# Repeat for Jungle\n",
    "plt.figure(figsize=(12,3))\n",
    "plt.title(\"Jungle 10 most picked Champs\")\n",
    "sns.countplot(x = \"Jungle\",\n",
    "              data = summary,\n",
    "              order = summary[\"Jungle\"].value_counts().iloc[:10].index,\n",
    "              palette=\"copper\")\n",
    "plt.xlabel(\"Champs\")\n",
    "plt.ylabel(\"Times picked\")\n",
    "\n",
    "# Repeat for Support\n",
    "plt.figure(figsize=(12,3))\n",
    "plt.title(\"Support 10 most picked Champs\")\n",
    "sns.countplot(x = \"Support\",\n",
    "              data = summary,\n",
    "              order = summary[\"Support\"].value_counts().iloc[:10].index,\n",
    "              palette=\"spring\")\n",
    "plt.xlabel(\"Champs\")\n",
    "plt.ylabel(\"Times picked\")\n",
    "\n",
    "# Repeat for ADC\n",
    "plt.figure(figsize=(12,3))\n",
    "plt.title(\"ADC 10 most picked Champs\")\n",
    "sns.countplot(x = \"ADC\",\n",
    "              data = summary,\n",
    "              order = summary[\"ADC\"].value_counts().iloc[:10].index,\n",
    "              palette=\"winter\")\n",
    "plt.xlabel(\"Champs\")\n",
    "plt.ylabel(\"Times picked\")"
   ]
  },
  {
   "cell_type": "markdown",
   "metadata": {},
   "source": [
    "7a.ii - Overall most picked champions"
   ]
  },
  {
   "cell_type": "code",
   "execution_count": 362,
   "metadata": {},
   "outputs": [
    {
     "data": {
      "text/plain": [
       "Text(0,0.5,'Times picked')"
      ]
     },
     "execution_count": 362,
     "metadata": {},
     "output_type": "execute_result"
    },
    {
     "data": {
      "image/png": "[encoded data removed]",
      "text/plain": [
       "<Figure size 864x216 with 1 Axes>"
      ]
     },
     "metadata": {
      "needs_background": "light"
     },
     "output_type": "display_data"
    }
   ],
   "source": [
    "# amalgamate all the heroes from each lane into a single DataFrame\n",
    "all_picks = pd.DataFrame(pd.concat([summary[\"Top\"],\n",
    "                                    summary[\"Mid\"],\n",
    "                                    summary[\"Jungle\"],\n",
    "                                    summary[\"Support\"],\n",
    "                                    summary[\"ADC\"]],\n",
    "                                   ignore_index=True))\n",
    "# Repeat chart method from above\n",
    "plt.figure(figsize=(12,3))\n",
    "plt.title(\"Top 10 most picked Champs\")\n",
    "sns.countplot(x = 0 ,\n",
    "              data = all_picks,\n",
    "              order = all_picks[0].value_counts().iloc[:10].index,\n",
    "              palette=\"autumn\")\n",
    "plt.xlabel(\"Champs\")\n",
    "plt.ylabel(\"Times picked\")"
   ]
  },
  {
   "cell_type": "markdown",
   "metadata": {},
   "source": [
    "7a.iii Further Data analysis\n",
    "\n",
    "From the information, we can see that while Gragas is the most picked champ, it is because of his flexibility to be played in multiple roles. Only the second most-picked jungler (2094 times or 27% of all matches) - he was also picked over 400 times as the top-laner, (6% of all matches)"
   ]
  },
  {
   "cell_type": "code",
   "execution_count": 360,
   "metadata": {},
   "outputs": [
    {
     "data": {
      "text/plain": [
       "False    14798\n",
       "True     442  \n",
       "Name: Top, dtype: int64"
      ]
     },
     "execution_count": 360,
     "metadata": {},
     "output_type": "execute_result"
    }
   ],
   "source": [
    "# Evaluate how often Gragas was picked in the top lane\n",
    "gragas_top = summary[\"Top\"] == \"Gragas\"\n",
    "gragas_top.value_counts()"
   ]
  },
  {
   "cell_type": "code",
   "execution_count": 361,
   "metadata": {},
   "outputs": [
    {
     "data": {
      "text/plain": [
       "False    13146\n",
       "True     2094 \n",
       "Name: Jungle, dtype: int64"
      ]
     },
     "execution_count": 361,
     "metadata": {},
     "output_type": "execute_result"
    }
   ],
   "source": [
    "# Evaluate how often Gragas was picked in the jungle\n",
    "gragas_jungle = summary[\"Jungle\"] == \"Gragas\"\n",
    "gragas_jungle.value_counts()"
   ]
  },
  {
   "cell_type": "markdown",
   "metadata": {},
   "source": [
    "7b - How varied is team composition?\n",
    "\n",
    "From a total of 15,240 team compositions, the composition was amazingly unique 14,626 times."
   ]
  },
  {
   "cell_type": "code",
   "execution_count": 263,
   "metadata": {},
   "outputs": [
    {
     "data": {
      "text/plain": [
       "14626"
      ]
     },
     "execution_count": 263,
     "metadata": {},
     "output_type": "execute_result"
    }
   ],
   "source": [
    "# use .unique to identify unique combinations in the 'Picks' column\n",
    "summary[\"Picks\"].nunique()"
   ]
  },
  {
   "cell_type": "markdown",
   "metadata": {},
   "source": [
    "7c.i - Who was the most successful team across this period?"
   ]
  },
  {
   "cell_type": "code",
   "execution_count": 404,
   "metadata": {},
   "outputs": [
    {
     "data": {
      "text/html": [
       "<div>\n",
       "<style scoped>\n",
       "    .dataframe tbody tr th:only-of-type {\n",
       "        vertical-align: middle;\n",
       "    }\n",
       "\n",
       "    .dataframe tbody tr th {\n",
       "        vertical-align: top;\n",
       "    }\n",
       "\n",
       "    .dataframe thead th {\n",
       "        text-align: right;\n",
       "    }\n",
       "</style>\n",
       "<table border=\"1\" class=\"dataframe\">\n",
       "  <thead>\n",
       "    <tr style=\"text-align: right;\">\n",
       "      <th></th>\n",
       "      <th>Result</th>\n",
       "    </tr>\n",
       "    <tr>\n",
       "      <th>Team Name</th>\n",
       "      <th></th>\n",
       "    </tr>\n",
       "  </thead>\n",
       "  <tbody>\n",
       "    <tr>\n",
       "      <th>LYN</th>\n",
       "      <td>0.893333</td>\n",
       "    </tr>\n",
       "    <tr>\n",
       "      <th>DFM</th>\n",
       "      <td>0.797468</td>\n",
       "    </tr>\n",
       "    <tr>\n",
       "      <th>ahq</th>\n",
       "      <td>0.774194</td>\n",
       "    </tr>\n",
       "    <tr>\n",
       "      <th>ANX</th>\n",
       "      <td>0.718750</td>\n",
       "    </tr>\n",
       "    <tr>\n",
       "      <th>SKT</th>\n",
       "      <td>0.712159</td>\n",
       "    </tr>\n",
       "    <tr>\n",
       "      <th>GET</th>\n",
       "      <td>0.710526</td>\n",
       "    </tr>\n",
       "    <tr>\n",
       "      <th>LGC</th>\n",
       "      <td>0.687500</td>\n",
       "    </tr>\n",
       "    <tr>\n",
       "      <th>FW</th>\n",
       "      <td>0.676230</td>\n",
       "    </tr>\n",
       "    <tr>\n",
       "      <th>CHF</th>\n",
       "      <td>0.671756</td>\n",
       "    </tr>\n",
       "    <tr>\n",
       "      <th>SUP</th>\n",
       "      <td>0.655844</td>\n",
       "    </tr>\n",
       "  </tbody>\n",
       "</table>\n",
       "</div>"
      ],
      "text/plain": [
       "             Result\n",
       "Team Name          \n",
       "LYN        0.893333\n",
       "DFM        0.797468\n",
       "ahq        0.774194\n",
       "ANX        0.718750\n",
       "SKT        0.712159\n",
       "GET        0.710526\n",
       "LGC        0.687500\n",
       "FW         0.676230\n",
       "CHF        0.671756\n",
       "SUP        0.655844"
      ]
     },
     "execution_count": 404,
     "metadata": {},
     "output_type": "execute_result"
    }
   ],
   "source": [
    "# Limit the teams to those with 20 competitive matches or more in the time period\n",
    "# Count how many games each team has played\n",
    "played_20_matches = summary[\"Team Name\"].value_counts()\n",
    "played_20_matches[played_20_matches > 20]\n",
    "\n",
    "# create a new summary with only teams with 20+ games\n",
    "teams_20_matches_summary = summary[summary[\"Team Name\"].isin(played_20_matches[played_20_matches > 20].index)]\n",
    "\n",
    "# group the dataset by team\n",
    "team_group = teams_20_matches_summary.groupby([\"Team Name\"])\n",
    "\n",
    "# take the win rate of each team, and sort it from highest to lowest\n",
    "team_success = pd.DataFrame(team_group[\"Result\"].mean().sort_values(ascending = False))\n",
    "\n",
    "# return top 10 successful teams\n",
    "top_10_win_rate = team_success.head(10)\n",
    "top_10_win_rate"
   ]
  },
  {
   "cell_type": "code",
   "execution_count": 385,
   "metadata": {},
   "outputs": [
    {
     "data": {
      "text/html": [
       "<div>\n",
       "<style scoped>\n",
       "    .dataframe tbody tr th:only-of-type {\n",
       "        vertical-align: middle;\n",
       "    }\n",
       "\n",
       "    .dataframe tbody tr th {\n",
       "        vertical-align: top;\n",
       "    }\n",
       "\n",
       "    .dataframe thead th {\n",
       "        text-align: right;\n",
       "    }\n",
       "</style>\n",
       "<table border=\"1\" class=\"dataframe\">\n",
       "  <thead>\n",
       "    <tr style=\"text-align: right;\">\n",
       "      <th></th>\n",
       "      <th>Result</th>\n",
       "    </tr>\n",
       "    <tr>\n",
       "      <th>Team Name</th>\n",
       "      <th></th>\n",
       "    </tr>\n",
       "  </thead>\n",
       "  <tbody>\n",
       "    <tr>\n",
       "      <th>SKT</th>\n",
       "      <td>287</td>\n",
       "    </tr>\n",
       "    <tr>\n",
       "      <th>TSM</th>\n",
       "      <td>207</td>\n",
       "    </tr>\n",
       "    <tr>\n",
       "      <th>kt</th>\n",
       "      <td>186</td>\n",
       "    </tr>\n",
       "    <tr>\n",
       "      <th>SSG</th>\n",
       "      <td>181</td>\n",
       "    </tr>\n",
       "    <tr>\n",
       "      <th>C9</th>\n",
       "      <td>178</td>\n",
       "    </tr>\n",
       "    <tr>\n",
       "      <th>FW</th>\n",
       "      <td>165</td>\n",
       "    </tr>\n",
       "    <tr>\n",
       "      <th>CLG</th>\n",
       "      <td>165</td>\n",
       "    </tr>\n",
       "    <tr>\n",
       "      <th>FNC</th>\n",
       "      <td>162</td>\n",
       "    </tr>\n",
       "    <tr>\n",
       "      <th>H2K</th>\n",
       "      <td>158</td>\n",
       "    </tr>\n",
       "    <tr>\n",
       "      <th>ROX</th>\n",
       "      <td>145</td>\n",
       "    </tr>\n",
       "  </tbody>\n",
       "</table>\n",
       "</div>"
      ],
      "text/plain": [
       "           Result\n",
       "Team Name        \n",
       "SKT        287   \n",
       "TSM        207   \n",
       "kt         186   \n",
       "SSG        181   \n",
       "C9         178   \n",
       "FW         165   \n",
       "CLG        165   \n",
       "FNC        162   \n",
       "H2K        158   \n",
       "ROX        145   "
      ]
     },
     "execution_count": 385,
     "metadata": {},
     "output_type": "execute_result"
    }
   ],
   "source": [
    "# repeat for team with most wins in the period\n",
    "# take the win rate of each team, and sort it from highest to lowest\n",
    "team_success = pd.DataFrame(team_group[\"Result\"].sum().sort_values(ascending = False))\n",
    "\n",
    "# return top 10 successful teams\n",
    "team_success.head(10)"
   ]
  },
  {
   "cell_type": "markdown",
   "metadata": {},
   "source": [
    "From the above outputs showing the teams with the highest win percentage, and the teams with the most wins, SKT and FW would appear to be the most overall successful, with high numbers of matches won with a top 10 win percentage."
   ]
  },
  {
   "cell_type": "code",
   "execution_count": 399,
   "metadata": {},
   "outputs": [],
   "source": [
    "# group the dataset by team and colour\n",
    "team_group_by_colour = teams_20_matches_summary.groupby([\"Team Name\", \"Team\"])\n",
    "# take the win rate of each team, and sort it from highest to lowest\n",
    "team_success_by_colour = team_group_by_colour[\"Result\"].mean()"
   ]
  },
  {
   "cell_type": "code",
   "execution_count": 389,
   "metadata": {},
   "outputs": [
    {
     "ename": "KeyError",
     "evalue": "'Team Name'",
     "output_type": "error",
     "traceback": [
      "\u001b[1;31m---------------------------------------------------------------------------\u001b[0m",
      "\u001b[1;31mTypeError\u001b[0m                                 Traceback (most recent call last)",
      "\u001b[1;32mC:\\ProgramData\\Anaconda3\\lib\\site-packages\\pandas\\core\\indexes\\multi.py\u001b[0m in \u001b[0;36mget_value\u001b[1;34m(self, series, key)\u001b[0m\n\u001b[0;32m    973\u001b[0m             \u001b[1;32mtry\u001b[0m\u001b[1;33m:\u001b[0m\u001b[1;33m\u001b[0m\u001b[0m\n\u001b[1;32m--> 974\u001b[1;33m                 \u001b[1;32mreturn\u001b[0m \u001b[0mlibindex\u001b[0m\u001b[1;33m.\u001b[0m\u001b[0mget_value_at\u001b[0m\u001b[1;33m(\u001b[0m\u001b[0ms\u001b[0m\u001b[1;33m,\u001b[0m \u001b[0mk\u001b[0m\u001b[1;33m)\u001b[0m\u001b[1;33m\u001b[0m\u001b[0m\n\u001b[0m\u001b[0;32m    975\u001b[0m             \u001b[1;32mexcept\u001b[0m \u001b[0mIndexError\u001b[0m\u001b[1;33m:\u001b[0m\u001b[1;33m\u001b[0m\u001b[0m\n",
      "\u001b[1;32mpandas\\_libs\\index.pyx\u001b[0m in \u001b[0;36mpandas._libs.index.get_value_at\u001b[1;34m()\u001b[0m\n",
      "\u001b[1;32mpandas/_libs/src\\util.pxd\u001b[0m in \u001b[0;36mutil.get_value_at\u001b[1;34m()\u001b[0m\n",
      "\u001b[1;31mTypeError\u001b[0m: 'str' object cannot be interpreted as an integer",
      "\nDuring handling of the above exception, another exception occurred:\n",
      "\u001b[1;31mKeyError\u001b[0m                                  Traceback (most recent call last)",
      "\u001b[1;32m<ipython-input-389-73776ce451ad>\u001b[0m in \u001b[0;36m<module>\u001b[1;34m()\u001b[0m\n\u001b[1;32m----> 1\u001b[1;33m \u001b[0mteam_success_by_colour_top10\u001b[0m \u001b[1;33m=\u001b[0m \u001b[0mteam_success_by_colour\u001b[0m\u001b[1;33m[\u001b[0m\u001b[0mteam_success_by_colour\u001b[0m\u001b[1;33m[\u001b[0m\u001b[1;34m\"Team Name\"\u001b[0m\u001b[1;33m]\u001b[0m\u001b[1;33m.\u001b[0m\u001b[0misin\u001b[0m\u001b[1;33m(\u001b[0m\u001b[0mteam_success\u001b[0m\u001b[1;33m.\u001b[0m\u001b[0mhead\u001b[0m\u001b[1;33m(\u001b[0m\u001b[1;33m)\u001b[0m\u001b[1;33m.\u001b[0m\u001b[0mindex\u001b[0m\u001b[1;33m)\u001b[0m\u001b[1;33m]\u001b[0m\u001b[1;33m\u001b[0m\u001b[0m\n\u001b[0m",
      "\u001b[1;32mC:\\ProgramData\\Anaconda3\\lib\\site-packages\\pandas\\core\\series.py\u001b[0m in \u001b[0;36m__getitem__\u001b[1;34m(self, key)\u001b[0m\n\u001b[0;32m    765\u001b[0m         \u001b[0mkey\u001b[0m \u001b[1;33m=\u001b[0m \u001b[0mcom\u001b[0m\u001b[1;33m.\u001b[0m\u001b[0m_apply_if_callable\u001b[0m\u001b[1;33m(\u001b[0m\u001b[0mkey\u001b[0m\u001b[1;33m,\u001b[0m \u001b[0mself\u001b[0m\u001b[1;33m)\u001b[0m\u001b[1;33m\u001b[0m\u001b[0m\n\u001b[0;32m    766\u001b[0m         \u001b[1;32mtry\u001b[0m\u001b[1;33m:\u001b[0m\u001b[1;33m\u001b[0m\u001b[0m\n\u001b[1;32m--> 767\u001b[1;33m             \u001b[0mresult\u001b[0m \u001b[1;33m=\u001b[0m \u001b[0mself\u001b[0m\u001b[1;33m.\u001b[0m\u001b[0mindex\u001b[0m\u001b[1;33m.\u001b[0m\u001b[0mget_value\u001b[0m\u001b[1;33m(\u001b[0m\u001b[0mself\u001b[0m\u001b[1;33m,\u001b[0m \u001b[0mkey\u001b[0m\u001b[1;33m)\u001b[0m\u001b[1;33m\u001b[0m\u001b[0m\n\u001b[0m\u001b[0;32m    768\u001b[0m \u001b[1;33m\u001b[0m\u001b[0m\n\u001b[0;32m    769\u001b[0m             \u001b[1;32mif\u001b[0m \u001b[1;32mnot\u001b[0m \u001b[0mis_scalar\u001b[0m\u001b[1;33m(\u001b[0m\u001b[0mresult\u001b[0m\u001b[1;33m)\u001b[0m\u001b[1;33m:\u001b[0m\u001b[1;33m\u001b[0m\u001b[0m\n",
      "\u001b[1;32mC:\\ProgramData\\Anaconda3\\lib\\site-packages\\pandas\\core\\indexes\\multi.py\u001b[0m in \u001b[0;36mget_value\u001b[1;34m(self, series, key)\u001b[0m\n\u001b[0;32m    980\u001b[0m                     \u001b[1;32mraise\u001b[0m \u001b[0mInvalidIndexError\u001b[0m\u001b[1;33m(\u001b[0m\u001b[0mkey\u001b[0m\u001b[1;33m)\u001b[0m\u001b[1;33m\u001b[0m\u001b[0m\n\u001b[0;32m    981\u001b[0m                 \u001b[1;32melse\u001b[0m\u001b[1;33m:\u001b[0m\u001b[1;33m\u001b[0m\u001b[0m\n\u001b[1;32m--> 982\u001b[1;33m                     \u001b[1;32mraise\u001b[0m \u001b[0me1\u001b[0m\u001b[1;33m\u001b[0m\u001b[0m\n\u001b[0m\u001b[0;32m    983\u001b[0m             \u001b[1;32mexcept\u001b[0m \u001b[0mException\u001b[0m\u001b[1;33m:\u001b[0m  \u001b[1;31m# pragma: no cover\u001b[0m\u001b[1;33m\u001b[0m\u001b[0m\n\u001b[0;32m    984\u001b[0m                 \u001b[1;32mraise\u001b[0m \u001b[0me1\u001b[0m\u001b[1;33m\u001b[0m\u001b[0m\n",
      "\u001b[1;32mC:\\ProgramData\\Anaconda3\\lib\\site-packages\\pandas\\core\\indexes\\multi.py\u001b[0m in \u001b[0;36mget_value\u001b[1;34m(self, series, key)\u001b[0m\n\u001b[0;32m    964\u001b[0m \u001b[1;33m\u001b[0m\u001b[0m\n\u001b[0;32m    965\u001b[0m         \u001b[1;32mtry\u001b[0m\u001b[1;33m:\u001b[0m\u001b[1;33m\u001b[0m\u001b[0m\n\u001b[1;32m--> 966\u001b[1;33m             \u001b[1;32mreturn\u001b[0m \u001b[0mself\u001b[0m\u001b[1;33m.\u001b[0m\u001b[0m_engine\u001b[0m\u001b[1;33m.\u001b[0m\u001b[0mget_value\u001b[0m\u001b[1;33m(\u001b[0m\u001b[0ms\u001b[0m\u001b[1;33m,\u001b[0m \u001b[0mk\u001b[0m\u001b[1;33m)\u001b[0m\u001b[1;33m\u001b[0m\u001b[0m\n\u001b[0m\u001b[0;32m    967\u001b[0m         \u001b[1;32mexcept\u001b[0m \u001b[0mKeyError\u001b[0m \u001b[1;32mas\u001b[0m \u001b[0me1\u001b[0m\u001b[1;33m:\u001b[0m\u001b[1;33m\u001b[0m\u001b[0m\n\u001b[0;32m    968\u001b[0m             \u001b[1;32mtry\u001b[0m\u001b[1;33m:\u001b[0m\u001b[1;33m\u001b[0m\u001b[0m\n",
      "\u001b[1;32mpandas\\_libs\\index.pyx\u001b[0m in \u001b[0;36mpandas._libs.index.IndexEngine.get_value\u001b[1;34m()\u001b[0m\n",
      "\u001b[1;32mpandas\\_libs\\index.pyx\u001b[0m in \u001b[0;36mpandas._libs.index.IndexEngine.get_value\u001b[1;34m()\u001b[0m\n",
      "\u001b[1;32mpandas\\_libs\\index.pyx\u001b[0m in \u001b[0;36mpandas._libs.index.IndexEngine.get_loc\u001b[1;34m()\u001b[0m\n",
      "\u001b[1;32mpandas\\_libs\\index.pyx\u001b[0m in \u001b[0;36mpandas._libs.index.BaseMultiIndexCodesEngine.get_loc\u001b[1;34m()\u001b[0m\n",
      "\u001b[1;31mKeyError\u001b[0m: 'Team Name'"
     ]
    }
   ],
   "source": []
  },
  {
   "cell_type": "code",
   "execution_count": null,
   "metadata": {},
   "outputs": [],
   "source": []
  }
 ],
 "metadata": {
  "kernelspec": {
   "display_name": "Python 3",
   "language": "python",
   "name": "python3"
  },
  "language_info": {
   "codemirror_mode": {
    "name": "ipython",
    "version": 3
   },
   "file_extension": ".py",
   "mimetype": "text/x-python",
   "name": "python",
   "nbconvert_exporter": "python",
   "pygments_lexer": "ipython3",
   "version": "3.7.0"
  }
 },
 "nbformat": 4,
 "nbformat_minor": 2
}
